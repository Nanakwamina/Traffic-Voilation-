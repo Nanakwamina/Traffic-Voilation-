{
 "cells": [
  {
   "cell_type": "code",
   "execution_count": 1,
   "metadata": {},
   "outputs": [],
   "source": [
    "#import the pandas library\n",
    "import pandas as pd"
   ]
  },
  {
   "cell_type": "code",
   "execution_count": null,
   "metadata": {},
   "outputs": [],
   "source": [
    "#name: Kobena Badu Enyam\n",
    "#Email:kobena.badu@azubiafrica.org"
   ]
  },
  {
   "cell_type": "code",
   "execution_count": 2,
   "metadata": {},
   "outputs": [
    {
     "data": {
      "text/html": [
       "<div>\n",
       "<style scoped>\n",
       "    .dataframe tbody tr th:only-of-type {\n",
       "        vertical-align: middle;\n",
       "    }\n",
       "\n",
       "    .dataframe tbody tr th {\n",
       "        vertical-align: top;\n",
       "    }\n",
       "\n",
       "    .dataframe thead th {\n",
       "        text-align: right;\n",
       "    }\n",
       "</style>\n",
       "<table border=\"1\" class=\"dataframe\">\n",
       "  <thead>\n",
       "    <tr style=\"text-align: right;\">\n",
       "      <th></th>\n",
       "      <th>Plate ID</th>\n",
       "      <th>Registration State</th>\n",
       "      <th>Vehicle Make</th>\n",
       "      <th>Violation Time</th>\n",
       "      <th>Street Name</th>\n",
       "      <th>Vehicle Color</th>\n",
       "    </tr>\n",
       "  </thead>\n",
       "  <tbody>\n",
       "    <tr>\n",
       "      <th>0</th>\n",
       "      <td>KGK6659</td>\n",
       "      <td>NY</td>\n",
       "      <td>BMW</td>\n",
       "      <td>0637P</td>\n",
       "      <td>WB ATLANTIC AVE @ SH</td>\n",
       "      <td>GY</td>\n",
       "    </tr>\n",
       "    <tr>\n",
       "      <th>1</th>\n",
       "      <td>L5232HY</td>\n",
       "      <td>TN</td>\n",
       "      <td>INTER</td>\n",
       "      <td>0853A</td>\n",
       "      <td>Rockaway Beach Blvd</td>\n",
       "      <td>WHITE</td>\n",
       "    </tr>\n",
       "    <tr>\n",
       "      <th>2</th>\n",
       "      <td>BPMN76</td>\n",
       "      <td>FL</td>\n",
       "      <td>NISSA</td>\n",
       "      <td>0853A</td>\n",
       "      <td>W 113th St</td>\n",
       "      <td>BLACK</td>\n",
       "    </tr>\n",
       "    <tr>\n",
       "      <th>3</th>\n",
       "      <td>57387MJ</td>\n",
       "      <td>NY</td>\n",
       "      <td>NaN</td>\n",
       "      <td>0444P</td>\n",
       "      <td>W 33rd St</td>\n",
       "      <td>WH</td>\n",
       "    </tr>\n",
       "    <tr>\n",
       "      <th>4</th>\n",
       "      <td>M81KFJ</td>\n",
       "      <td>NJ</td>\n",
       "      <td>TOYOT</td>\n",
       "      <td>0723A</td>\n",
       "      <td>WB FOSTER AVE @ E 18</td>\n",
       "      <td>NaN</td>\n",
       "    </tr>\n",
       "    <tr>\n",
       "      <th>...</th>\n",
       "      <td>...</td>\n",
       "      <td>...</td>\n",
       "      <td>...</td>\n",
       "      <td>...</td>\n",
       "      <td>...</td>\n",
       "      <td>...</td>\n",
       "    </tr>\n",
       "    <tr>\n",
       "      <th>49995</th>\n",
       "      <td>JPN4910</td>\n",
       "      <td>NY</td>\n",
       "      <td>FORD</td>\n",
       "      <td>0342P</td>\n",
       "      <td>EB E 125TH ST @ 2ND</td>\n",
       "      <td>RD</td>\n",
       "    </tr>\n",
       "    <tr>\n",
       "      <th>49996</th>\n",
       "      <td>174ZYG</td>\n",
       "      <td>CT</td>\n",
       "      <td>TOYOT</td>\n",
       "      <td>0828A</td>\n",
       "      <td>W 13th St</td>\n",
       "      <td>BLACK</td>\n",
       "    </tr>\n",
       "    <tr>\n",
       "      <th>49997</th>\n",
       "      <td>HES6895</td>\n",
       "      <td>NY</td>\n",
       "      <td>CADIL</td>\n",
       "      <td>0933P</td>\n",
       "      <td>E 182nd St</td>\n",
       "      <td>RD</td>\n",
       "    </tr>\n",
       "    <tr>\n",
       "      <th>49998</th>\n",
       "      <td>63035MN</td>\n",
       "      <td>NY</td>\n",
       "      <td>ISUZU</td>\n",
       "      <td>1215P</td>\n",
       "      <td>W Kingsbridge Rd</td>\n",
       "      <td>WH</td>\n",
       "    </tr>\n",
       "    <tr>\n",
       "      <th>49999</th>\n",
       "      <td>AW74165</td>\n",
       "      <td>CT</td>\n",
       "      <td>HONDA</td>\n",
       "      <td>0128P</td>\n",
       "      <td>Canal Pl</td>\n",
       "      <td>BLACK</td>\n",
       "    </tr>\n",
       "  </tbody>\n",
       "</table>\n",
       "<p>50000 rows × 6 columns</p>\n",
       "</div>"
      ],
      "text/plain": [
       "      Plate ID Registration State Vehicle Make Violation Time  \\\n",
       "0      KGK6659                 NY          BMW          0637P   \n",
       "1      L5232HY                 TN        INTER          0853A   \n",
       "2       BPMN76                 FL        NISSA          0853A   \n",
       "3      57387MJ                 NY          NaN          0444P   \n",
       "4       M81KFJ                 NJ        TOYOT          0723A   \n",
       "...        ...                ...          ...            ...   \n",
       "49995  JPN4910                 NY         FORD          0342P   \n",
       "49996   174ZYG                 CT        TOYOT          0828A   \n",
       "49997  HES6895                 NY        CADIL          0933P   \n",
       "49998  63035MN                 NY        ISUZU          1215P   \n",
       "49999  AW74165                 CT        HONDA          0128P   \n",
       "\n",
       "                Street Name Vehicle Color  \n",
       "0      WB ATLANTIC AVE @ SH            GY  \n",
       "1       Rockaway Beach Blvd         WHITE  \n",
       "2                W 113th St         BLACK  \n",
       "3                 W 33rd St            WH  \n",
       "4      WB FOSTER AVE @ E 18           NaN  \n",
       "...                     ...           ...  \n",
       "49995   EB E 125TH ST @ 2ND            RD  \n",
       "49996             W 13th St         BLACK  \n",
       "49997            E 182nd St            RD  \n",
       "49998      W Kingsbridge Rd            WH  \n",
       "49999              Canal Pl         BLACK  \n",
       "\n",
       "[50000 rows x 6 columns]"
      ]
     },
     "execution_count": 2,
     "metadata": {},
     "output_type": "execute_result"
    }
   ],
   "source": [
    "#importing data as a dataframe\n",
    "#using data sent to us by Glen during the friday lab session\n",
    "nyc_violations_df = pd.read_csv('violations.csv',usecols= ['Plate ID','Registration State','Vehicle Make',\n",
    "'Vehicle Color','Violation Time','Street Name'])\n",
    "nyc_violations_df"
   ]
  },
  {
   "cell_type": "code",
   "execution_count": 13,
   "metadata": {},
   "outputs": [
    {
     "data": {
      "text/plain": [
       "NY    36761\n",
       "NJ     5202\n",
       "PA     1531\n",
       "FL     1058\n",
       "CT      746\n",
       "TX      579\n",
       "VA      402\n",
       "IN      369\n",
       "MA      369\n",
       "MD      325\n",
       "NC      301\n",
       "GA      266\n",
       "OH      194\n",
       "IL      171\n",
       "CA      155\n",
       "ME      143\n",
       "AZ      143\n",
       "TN      131\n",
       "SC       94\n",
       "DE       85\n",
       "MI       80\n",
       "MN       72\n",
       "99       70\n",
       "WA       68\n",
       "GV       65\n",
       "AL       63\n",
       "VT       52\n",
       "RI       49\n",
       "OK       45\n",
       "NH       44\n",
       "MO       38\n",
       "OR       32\n",
       "WI       30\n",
       "KY       28\n",
       "LA       28\n",
       "CO       26\n",
       "DC       23\n",
       "MS       19\n",
       "WV       18\n",
       "IA       14\n",
       "UT       13\n",
       "AR       13\n",
       "NM       11\n",
       "NV        8\n",
       "KS        7\n",
       "SD        7\n",
       "ON        7\n",
       "QB        7\n",
       "MT        7\n",
       "ID        6\n",
       "NE        5\n",
       "DP        4\n",
       "AB        4\n",
       "AK        3\n",
       "ND        3\n",
       "HI        2\n",
       "PR        2\n",
       "FO        1\n",
       "WY        1\n",
       "Name: Registration State, dtype: int64"
      ]
     },
     "execution_count": 13,
     "metadata": {},
     "output_type": "execute_result"
    }
   ],
   "source": [
    "nyc_violations_df['Registration State'].value_counts()"
   ]
  },
  {
   "cell_type": "code",
   "execution_count": 3,
   "metadata": {},
   "outputs": [
    {
     "data": {
      "text/plain": [
       "Plate ID                 0\n",
       "Registration State       0\n",
       "Vehicle Make           136\n",
       "Violation Time           1\n",
       "Street Name             10\n",
       "Vehicle Color         2417\n",
       "dtype: int64"
      ]
     },
     "execution_count": 3,
     "metadata": {},
     "output_type": "execute_result"
    }
   ],
   "source": [
    "#number of empty rows under various columns\n",
    #"nyc_violations_df.isnull().sum()"
   ]
  },
  {
   "cell_type": "code",
   "execution_count": 4,
   "metadata": {},
   "outputs": [
    {
     "name": "stdout",
     "output_type": "stream",
     "text": [
      "<class 'pandas.core.frame.DataFrame'>\n",
      "Int64Index: 47446 entries, 0 to 49999\n",
      "Data columns (total 6 columns):\n",
      " #   Column              Non-Null Count  Dtype \n",
      "---  ------              --------------  ----- \n",
      " 0   Plate ID            47446 non-null  object\n",
      " 1   Registration State  47446 non-null  object\n",
      " 2   Vehicle Make        47446 non-null  object\n",
      " 3   Violation Time      47446 non-null  object\n",
      " 4   Street Name         47446 non-null  object\n",
      " 5   Vehicle Color       47446 non-null  object\n",
      "dtypes: object(6)\n",
      "memory usage: 2.5+ MB\n"
     ]
    }
   ],
   "source": [
    "#a new dataframe containing dropped rows based selected columns\n",
    "no_na_violations_df = nyc_violations_df.dropna()\n",
    "no_na_violations_df.info()"
   ]
  },
  {
   "cell_type": "code",
   "execution_count": 5,
   "metadata": {},
   "outputs": [
    {
     "name": "stdout",
     "output_type": "stream",
     "text": [
      "Money lost by New York due to missing data is $255,400.00\n"
     ]
    }
   ],
   "source": [
    "#Finding the number of deleted rows \n",
    "del_rows = nyc_violations_df.shape[0]-no_na_violations_df.shape[0]\n",
    "print(f'Money lost by New York due to missing data is ${(del_rows*100):,.2f}')"
   ]
  },
  {
   "cell_type": "code",
   "execution_count": 6,
   "metadata": {},
   "outputs": [],
   "source": [
    "#A new dataframe with dropped empty row based on selected colums \n",
    "new_violations_df = nyc_violations_df.dropna(subset = ['Plate ID','Registration State','Vehicle Make','Street Name'])"
   ]
  },
  {
   "cell_type": "code",
   "execution_count": 7,
   "metadata": {},
   "outputs": [],
   "source": [
    "#finding the number of deleted rows after new dataframe was created \n",
    "del_rows = nyc_violations_df.shape[0]-new_violations_df.shape[0]"
   ]
  },
  {
   "cell_type": "code",
   "execution_count": 8,
   "metadata": {},
   "outputs": [
    {
     "name": "stdout",
     "output_type": "stream",
     "text": [
      "Money lost by New York due to missing data is $14,400.00\n"
     ]
    }
   ],
   "source": [
    "#display the money lost after new dataframe was created\n",
    "print(f'Money lost by New York due to missing data is ${(del_rows*100):,.2f}')"
   ]
  },
  {
   "cell_type": "code",
   "execution_count": 9,
   "metadata": {},
   "outputs": [],
   "source": [
    "#creating a new dataframe with empty rows dropped based some collected colums  \n",
    "new_violations_two_df = nyc_violations_df.dropna(subset = ['Plate ID','Registration State','Street Name'])"
   ]
  },
  {
   "cell_type": "code",
   "execution_count": 10,
   "metadata": {},
   "outputs": [
    {
     "data": {
      "text/plain": [
       "'the total number of missing rows without requiring the vehicle make is 10'"
      ]
     },
     "execution_count": 10,
     "metadata": {},
     "output_type": "execute_result"
    }
   ],
   "source": [
    "#computing deleted rows again for new dataframe\n",
    "del_rows = nyc_violations_df.shape[0]-new_violations_two_df.shape[0]\n",
    "(f'the total number of missing rows without requiring the vehicle make is {(del_rows)}')"
   ]
  },
  {
   "cell_type": "code",
   "execution_count": 11,
   "metadata": {},
   "outputs": [],
   "source": [
    "#computing the number of people to be fined with full data entered\n",
    "you_go_pay = nyc_violations_df.shape[0]-del_rows"
   ]
  },
  {
   "cell_type": "code",
   "execution_count": 12,
   "metadata": {},
   "outputs": [
    {
     "name": "stdout",
     "output_type": "stream",
     "text": [
      "Money lost by New York due to fully represented data is $4,999,000.00\n"
     ]
    }
   ],
   "source": [
    "#display money lost by New York City when those with fully represented data are pardoned\n",
    "print(f'Money lost by New York due to fully represented data is ${(you_go_pay*100):,.2f}')"
   ]
  },
  {
   "cell_type": "code",
   "execution_count": null,
   "metadata": {},
   "outputs": [],
   "source": []
  },
  {
   "cell_type": "code",
   "execution_count": null,
   "metadata": {},
   "outputs": [],
   "source": []
  }
 ],
 "metadata": {
  "kernelspec": {
   "display_name": "Python 3.10.5 64-bit",
   "language": "python",
   "name": "python3"
  },
  "language_info": {
   "codemirror_mode": {
    "name": "ipython",
    "version": 3
   },
   "file_extension": ".py",
   "mimetype": "text/x-python",
   "name": "python",
   "nbconvert_exporter": "python",
   "pygments_lexer": "ipython3",
   "version": "3.10.5"
  },
  "orig_nbformat": 4,
  "vscode": {
   "interpreter": {
    "hash": "8c3d4d9970fc5c09c50d9318a9c7fbf4d0159e4b28833276f5678ee22bded273"
   }
  }
 },
 "nbformat": 4,
 "nbformat_minor": 2
}
